{
 "cells": [
  {
   "cell_type": "markdown",
   "metadata": {},
   "source": [
    "### . csv"
   ]
  },
  {
   "cell_type": "markdown",
   "metadata": {},
   "source": [
    "### . Excel"
   ]
  },
  {
   "cell_type": "markdown",
   "metadata": {},
   "source": [
    "### . HTML"
   ]
  },
  {
   "cell_type": "markdown",
   "metadata": {},
   "source": [
    "### . SQL"
   ]
  },
  {
   "cell_type": "code",
   "execution_count": 1,
   "metadata": {},
   "outputs": [],
   "source": [
    "import pandas as pd\n",
    "import numpy as np\n",
    "pd.read_csv('example')\n",
    "\n",
    "# CSV\n",
    "df.to_csv('My_Output', index = False)\n",
    "pd.read_csv('My_Output', index = False)\n",
    "\n",
    "# excel\n",
    "pd.read_excel('ExcelFile.xlsx', sheetname='Sheet1')\n",
    "df.to_excel('ExcelFile.xlsx', sheetname='NewSheet')\n",
    "\n",
    "# html\n",
    "data = pd.read_html('https://www.---/list.html')\n",
    "\n",
    "# sql\n",
    "from sqlalchemy import create_engine\n",
    "engine = create_engine('sqlite:///:memory:')\n",
    "df.to_sql(\"My_Table\", engine)\n",
    "sqldf = pd.read_sql('My_table', con=engine)"
   ]
  }
 ],
 "metadata": {
  "kernelspec": {
   "display_name": "Python 3",
   "language": "python",
   "name": "python3"
  },
  "language_info": {
   "codemirror_mode": {
    "name": "ipython",
    "version": 3
   },
   "file_extension": ".py",
   "mimetype": "text/x-python",
   "name": "python",
   "nbconvert_exporter": "python",
   "pygments_lexer": "ipython3",
   "version": "3.7.6"
  }
 },
 "nbformat": 4,
 "nbformat_minor": 4
}
